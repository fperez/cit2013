{
 "metadata": {
  "name": ""
 },
 "nbformat": 3,
 "nbformat_minor": 0,
 "worksheets": [
  {
   "cells": [
    {
     "cell_type": "markdown",
     "metadata": {},
     "source": [
      "# Mapping seismic stations in the Himalayas with Numpy and Matplotlib\n",
      "## Or reading datasets with custom dtypes and plotting Earth-based data with basemap"
     ]
    },
    {
     "cell_type": "markdown",
     "metadata": {},
     "source": [
      "In this exercise, we consider loading measurement files with the format:\n",
      "\n",
      "<pre>\n",
      "# Station  Lat    Long   Elev \n",
      "BIRA\t26.4840\t87.2670\t0.0120\n",
      "BUNG\t27.8771\t85.8909\t1.1910\n",
      "etc...\n",
      "</pre>\n",
      "\n",
      "These are seismic measurement stations in the Himalaya, with the elevation indicated in km.  Data with a structure such as this is common in many disciplines, and because we have a combination of text and numerical fields, we can't directly load it into a regular numpy array.\n",
      "\n",
      "But we can use numpy's ability to [define custom data types (dtypes)](http://docs.scipy.org/doc/numpy/reference/arrays.dtypes.html) to compactly describe our data in a single array, which we can then manipulate.\n",
      "\n",
      "We start by configuring pylab support and loading the required modules."
     ]
    },
    {
     "cell_type": "code",
     "collapsed": false,
     "input": [
      "%matplotlib inline\n",
      "import numpy as np\n",
      "import matplotlib.pyplot as plt"
     ],
     "language": "python",
     "metadata": {},
     "outputs": []
    },
    {
     "cell_type": "markdown",
     "metadata": {},
     "source": [
      "Now, we need to describe this dataset.  There are several ways of declaring a dtype, in this simple case we show two equivalent ones.  See the [numpy reference docs](http://docs.scipy.org/doc/numpy/reference/arrays.dtypes.html) for more details:"
     ]
    },
    {
     "cell_type": "code",
     "collapsed": true,
     "input": [
      "# Data descriptor to make a proper array.\n",
      "dt = [('station', (str, 4)), ('lat', np.float64), \n",
      "      ('lon', np.float64), ('elev', np.float64) ]"
     ],
     "language": "python",
     "metadata": {},
     "outputs": []
    },
    {
     "cell_type": "markdown",
     "metadata": {},
     "source": [
      "Now, we load the data using this dtype we've constructed, and view it as a recarray for convenient named-field access:"
     ]
    },
    {
     "cell_type": "code",
     "collapsed": true,
     "input": [
      "tab = np.loadtxt('stations.txt', dt)\n",
      "print tab[0] # sanity check"
     ],
     "language": "python",
     "metadata": {},
     "outputs": []
    },
    {
     "cell_type": "markdown",
     "metadata": {},
     "source": [
      "Next we do the actual plot"
     ]
    },
    {
     "cell_type": "code",
     "collapsed": false,
     "input": [
      "f1, ax = plt.subplots(figsize=(10,6))\n",
      "\n",
      "# Make the size of the circles proportional to the elevation\n",
      "sizes = 40*(tab['elev'] + 1)\n",
      "s = ax.scatter(tab['lon'], tab['lat'], s=sizes, c=tab['elev'])\n",
      "\n",
      "# The colorbar must be associated with the return value of scatter()\n",
      "f1.colorbar(s)\n",
      "title = 'Seismic Stations in the Himalaya'\n",
      "ax.set_title(title)\n",
      "# Now add text labels for all the stations.  \n",
      "\n",
      "for record in tab:\n",
      "    ax.text(record['lon'] + 0.04, record['lat'] + 0.04, record['station'], \n",
      "            weight='bold')"
     ],
     "language": "python",
     "metadata": {},
     "outputs": []
    },
    {
     "cell_type": "heading",
     "level": 2,
     "metadata": {},
     "source": [
      "Bonus: overlaying mapping information"
     ]
    },
    {
     "cell_type": "markdown",
     "metadata": {},
     "source": [
      "Using the [matplotlib basemap toolkit](http://matplotlib.org/basemap/), we can show an even better plot by overlaying the stations on top of a map of Earth at that location.  \n",
      "\n",
      "*Note:* on Ubuntu, you can install basemap with\n",
      "\n",
      "    sudo apt-get install python-mpltoolkits.basemap\n",
      "    \n",
      "and on Anaconda with\n",
      "\n",
      "    conda install basemap"
     ]
    },
    {
     "cell_type": "code",
     "collapsed": false,
     "input": [
      "from mpl_toolkits.basemap import Basemap\n",
      "\n",
      "# Draw the stations on a real map of the Earth.\n",
      "# Find boundaries \n",
      "lon0 = 0.995*tab['lon'].min()\n",
      "lon1 = 1.01*tab['lon'].max()\n",
      "lat0 = 0.995*tab['lat'].min()\n",
      "lat1 = 1.01*tab['lat'].max()\n",
      "\n",
      "# Geographic grid to draw\n",
      "parallels = np.linspace(lat0, lat1, 5)\n",
      "meridians = np.linspace(lon0, lon1, 5)\n",
      "\n",
      "# Resolution of the basemap to load ('f' is *very* expensive)\n",
      "resolution = 'i' # intermediate resolution for map info\n",
      "\n",
      "# Create the figure\n",
      "f2, ax2 = plt.subplots(figsize=(10,6))\n",
      "\n",
      "# Make the map object, where we draw geographic information\n",
      "m = Basemap(lon0, lat0, lon1, lat1, resolution=resolution, ax=ax2)\n",
      "m.drawcountries(color=(1,1,0))  # country boundaries yellow\n",
      "m.drawrivers(color=(0,1,1))  # rivers in cyan\n",
      "m.bluemarble()  # NASA bluemarble image\n",
      "m.drawparallels(parallels, labels=[1,0,0,0], fmt='%.2f')\n",
      "m.drawmeridians(meridians, labels=[0,0,0,1], fmt='%.2f')\n",
      "\n",
      "# Now draw a scatter plot on the same map\n",
      "s = m.scatter(tab['lon'], tab['lat'], s=sizes, c=tab['elev'],\n",
      "              zorder=10, alpha=0.6)\n",
      "# Add a colorbar to the figure, linked to the scatterplot color scale\n",
      "f2.colorbar(s)\n",
      "\n",
      "# Label the figure and every point by its station label\n",
      "ax2.set_title(title)\n",
      "for record in tab:\n",
      "    ax2.text( record['lon']+0.04, record['lat']+0.04, record['station'], \n",
      "            weight='bold', color='yellow', zorder=10)"
     ],
     "language": "python",
     "metadata": {},
     "outputs": []
    },
    {
     "cell_type": "code",
     "collapsed": false,
     "input": [],
     "language": "python",
     "metadata": {},
     "outputs": []
    }
   ],
   "metadata": {}
  }
 ]
}